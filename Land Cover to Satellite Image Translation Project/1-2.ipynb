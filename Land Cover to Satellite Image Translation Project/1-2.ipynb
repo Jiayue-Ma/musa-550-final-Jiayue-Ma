{
 "cells": [
  {
   "cell_type": "markdown",
   "id": "777dafea-3741-4c7c-85e2-07898f4c5922",
   "metadata": {},
   "source": [
    "# Installing Anaconda"
   ]
  },
  {
   "cell_type": "markdown",
   "id": "ed8c50f9-859e-4b10-9a58-3bb6a4c68e26",
   "metadata": {},
   "source": [
    "Visit [Anaconda Download Page](https://www.anaconda.com/download) and input your email, Anaconda will send over a link to download the newest version of anaconda. After installing, you should able to find Anaconda Prompt and Anaconda Navigator by start menu search bar.\n",
    "\n",
    "<img src=\"images/1-2.png\" alt=\"Your Start Menu Search Bar After Installing Anaconda\" style=\"display:block; margin-top:0.5em; width:53em;\">"
   ]
  }
 ],
 "metadata": {
  "kernelspec": {
   "display_name": "test_gpu",
   "language": "python",
   "name": "test_gpu"
  },
  "language_info": {
   "codemirror_mode": {
    "name": "ipython",
    "version": 3
   },
   "file_extension": ".py",
   "mimetype": "text/x-python",
   "name": "python",
   "nbconvert_exporter": "python",
   "pygments_lexer": "ipython3",
   "version": "3.10.14"
  }
 },
 "nbformat": 4,
 "nbformat_minor": 5
}
