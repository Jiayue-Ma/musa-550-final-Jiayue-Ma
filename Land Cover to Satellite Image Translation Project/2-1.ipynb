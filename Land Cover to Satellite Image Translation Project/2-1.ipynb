{
 "cells": [
  {
   "cell_type": "markdown",
   "id": "60b273a5-c3e8-4a38-8284-9f03e562b62c",
   "metadata": {},
   "source": [
    "# Importing Packages"
   ]
  },
  {
   "cell_type": "markdown",
   "id": "9d1c7b59-4035-4461-aee4-6a94de5396b6",
   "metadata": {},
   "source": [
    "This section focuses on importing the essential Python libraries required for running the Pix2Pix model. These libraries provide functionalities for data processing, visualization, geospatial operations, and deep learning. Ensuring that all necessary packages are correctly imported is a crucial step in preparing the environment for seamless execution of the model."
   ]
  },
  {
   "cell_type": "markdown",
   "id": "80030792-048a-431e-91e0-286fcd887b54",
   "metadata": {},
   "source": [
    "## Step 1"
   ]
  },
  {
   "cell_type": "markdown",
   "id": "23e2e78a-edcd-490d-a229-6aa55107d69f",
   "metadata": {},
   "source": [
    "<strong style=\"color: #CD6AA3;\">Import necessary packages,</strong> then use\n",
    "<pre style=\"background-color: #f4f4f4; padding: 0.5em; border-radius: 5px;\">tf.config.list_physical_devices(‘GPU’)</pre> and \n",
    "<pre style=\"background-color: #f4f4f4; padding: 0.5em; border-radius: 5px;\">device_lib.list_local_devices()</pre>\n",
    "to check if tensorflow could run on GPU. If set up properly, the response should show number of available GPUs more than 0 and print the name of your GPU."
   ]
  },
  {
   "cell_type": "code",
   "execution_count": 1,
   "id": "f293d897-04bd-4447-8596-b2ff07eb5333",
   "metadata": {},
   "outputs": [],
   "source": [
    "import ee\n",
    "import geopandas as gpd\n",
    "import pandas as pd\n",
    "import os\n",
    "from shapely.geometry import Point\n",
    "import random\n",
    "import json\n",
    "import matplotlib.pyplot as plt\n",
    "import requests\n",
    "from PIL import Image\n",
    "import numpy as np\n",
    "import time\n",
    "import datetime"
   ]
  },
  {
   "cell_type": "code",
   "execution_count": 2,
   "id": "c4524569-2b9b-473a-8507-109c2b58b0b3",
   "metadata": {},
   "outputs": [
    {
     "name": "stdout",
     "output_type": "stream",
     "text": [
      "Num GPUs Available:  1\n",
      "[name: \"/device:CPU:0\"\n",
      "device_type: \"CPU\"\n",
      "memory_limit: 268435456\n",
      "locality {\n",
      "}\n",
      "incarnation: 1722494589203167364\n",
      "xla_global_id: -1\n",
      ", name: \"/device:GPU:0\"\n",
      "device_type: \"GPU\"\n",
      "memory_limit: 6272581632\n",
      "locality {\n",
      "  bus_id: 1\n",
      "  links {\n",
      "  }\n",
      "}\n",
      "incarnation: 5875665722278689809\n",
      "physical_device_desc: \"device: 0, name: NVIDIA GeForce RTX 2070 with Max-Q Design, pci bus id: 0000:01:00.0, compute capability: 7.5\"\n",
      "xla_global_id: 416903419\n",
      "]\n"
     ]
    }
   ],
   "source": [
    "import tensorflow as tf\n",
    "from tensorflow.python.client import device_lib\n",
    "from tensorflow.keras.models import load_model\n",
    "\n",
    "print(\"Num GPUs Available: \", len(tf.config.list_physical_devices('GPU')))\n",
    "print(device_lib.list_local_devices())"
   ]
  },
  {
   "cell_type": "code",
   "execution_count": 3,
   "id": "8852c524-94b8-4b9a-8c6d-5e2c0d446c1e",
   "metadata": {},
   "outputs": [],
   "source": [
    "tf.config.run_functions_eagerly(False)"
   ]
  },
  {
   "cell_type": "markdown",
   "id": "91e360a7-8a06-43bf-96cf-0fbfcdcd44ea",
   "metadata": {},
   "source": [
    "## Step 2"
   ]
  },
  {
   "cell_type": "markdown",
   "id": "505556e5-3974-40da-8154-c649648192dc",
   "metadata": {},
   "source": [
    "<strong style=\"color: #CD6AA3;\">Use</strong>\n",
    "<pre style=\"background-color: #f4f4f4; padding: 0.5em; border-radius: 5px;\">ee.Authenticate()</pre> \n",
    "to access Google Earth Engine. When you run the code, the browser should be automatically directed to a new tab; if not, clip and paste the link provided to your search bar and visit the site."
   ]
  },
  {
   "cell_type": "code",
   "execution_count": 4,
   "id": "12d37f6c-1591-4f90-b0d6-cec3bef5fa05",
   "metadata": {},
   "outputs": [
    {
     "data": {
      "text/html": [
       "<p>To authorize access needed by Earth Engine, open the following\n",
       "        URL in a web browser and follow the instructions:</p>\n",
       "        <p><a href=https://code.earthengine.google.com/client-auth?scopes=https%3A//www.googleapis.com/auth/earthengine%20https%3A//www.googleapis.com/auth/cloud-platform%20https%3A//www.googleapis.com/auth/devstorage.full_control&request_id=VIEcxxVX3ZRyAlCOhCIeUxjUFQ5deHPogmmkPZV-9Lg&tc=9HhxFTNh9A5VF_WM8FJ_qGeqCAOcfIe_5dR1HTFuqmY&cc=Svojn6fvEqPzLMVrJpZYaY3kj1eL4tHA8dk8TraWFtA>https://code.earthengine.google.com/client-auth?scopes=https%3A//www.googleapis.com/auth/earthengine%20https%3A//www.googleapis.com/auth/cloud-platform%20https%3A//www.googleapis.com/auth/devstorage.full_control&request_id=VIEcxxVX3ZRyAlCOhCIeUxjUFQ5deHPogmmkPZV-9Lg&tc=9HhxFTNh9A5VF_WM8FJ_qGeqCAOcfIe_5dR1HTFuqmY&cc=Svojn6fvEqPzLMVrJpZYaY3kj1eL4tHA8dk8TraWFtA</a></p>\n",
       "        <p>The authorization workflow will generate a code, which you should paste in the box below.</p>\n",
       "        "
      ],
      "text/plain": [
       "<IPython.core.display.HTML object>"
      ]
     },
     "metadata": {},
     "output_type": "display_data"
    },
    {
     "name": "stdin",
     "output_type": "stream",
     "text": [
      "Enter verification code:  4/1AanRRrveXLnTEal57vMlD1lvq3oGno69q7u1EiAnAyG0HWkInDck5hznT6M\n"
     ]
    },
    {
     "name": "stdout",
     "output_type": "stream",
     "text": [
      "\n",
      "Successfully saved authorization token.\n"
     ]
    }
   ],
   "source": [
    "ee.Authenticate() "
   ]
  },
  {
   "cell_type": "markdown",
   "id": "1890910b-7ca5-4b3f-9060-f1d73e7f857c",
   "metadata": {},
   "source": [
    "## Step 3"
   ]
  },
  {
   "cell_type": "markdown",
   "id": "19586dec-5ccf-44fe-9798-bbc94d262092",
   "metadata": {},
   "source": [
    "<strong style=\"color: #CD6AA3;\">In the opened tab,</strong> login to your Google account. The page will then be directed to “Notebook Authenticator”. Under “Cloud Project”, select “Create a new Cloud Project.”\n",
    "<img src=\"images/2-1-1.png\" alt=\"Anaconda Navigator Home Page\" style=\"display:block; margin-top:0.5em; margin-bottom:0.5em; width:53em;\">"
   ]
  },
  {
   "cell_type": "markdown",
   "id": "f28fb876-aa2f-4a98-8f72-c35a4c8a2645",
   "metadata": {},
   "source": [
    "## Step 4"
   ]
  },
  {
   "cell_type": "markdown",
   "id": "54ff05a3-4aea-42d9-b39d-19d5eceed955",
   "metadata": {},
   "source": [
    "<strong style=\"color: #CD6AA3;\">After Creating a new project,</strong> the site will note that the project has not been registered yet. Simply follow its direction to register the project.\n",
    "<img src=\"images/2-1-2.png\" alt=\"Anaconda Navigator Home Page\" style=\"display:block; margin-top:0.5em; margin-bottom:0.5em; width:53em;\">\n",
    "<img src=\"images/2-1-3.png\" alt=\"Anaconda Navigator Home Page\" style=\"display:block; margin-top:0.5em; margin-bottom:0.5em; width:53em;\">"
   ]
  },
  {
   "cell_type": "markdown",
   "id": "71f134c4-ed20-4d39-8ce6-04314847da98",
   "metadata": {},
   "source": [
    "## Step 5"
   ]
  },
  {
   "cell_type": "markdown",
   "id": "39e6b15c-1d17-4a04-b7d6-de020df41b89",
   "metadata": {},
   "source": [
    "<strong style=\"color: #CD6AA3;\">After registration finished,</strong> click “Generate Token” at the bottom of the Notebook Authenticator page. A request will pop up for the application to access your Google Cloud data. After receiving your consent, it should redirect you to a verification code page."
   ]
  },
  {
   "cell_type": "markdown",
   "id": "38e21111-5994-4b46-b8c1-224fae6ba9d0",
   "metadata": {},
   "source": [
    "## Step 6"
   ]
  },
  {
   "cell_type": "markdown",
   "id": "5ff03af4-6e0e-4c1c-b405-ab3fbf7f6dd6",
   "metadata": {},
   "source": [
    "<strong style=\"color: #CD6AA3;\">Paste the verification code</strong> in your jupyter notebook where the application tells you to “Enter Verification Code”. Run\n",
    "<pre style=\"background-color: #f4f4f4; padding: 0.5em; border-radius: 5px;\">ee.Initialize()</pre> \n",
    "to see if everything is doing fine."
   ]
  },
  {
   "cell_type": "code",
   "execution_count": 5,
   "id": "9ad5075e-70ce-45df-bef1-ffa615d8c244",
   "metadata": {},
   "outputs": [],
   "source": [
    "ee.Initialize()"
   ]
  }
 ],
 "metadata": {
  "kernelspec": {
   "display_name": "test_gpu",
   "language": "python",
   "name": "test_gpu"
  },
  "language_info": {
   "codemirror_mode": {
    "name": "ipython",
    "version": 3
   },
   "file_extension": ".py",
   "mimetype": "text/x-python",
   "name": "python",
   "nbconvert_exporter": "python",
   "pygments_lexer": "ipython3",
   "version": "3.10.14"
  }
 },
 "nbformat": 4,
 "nbformat_minor": 5
}
