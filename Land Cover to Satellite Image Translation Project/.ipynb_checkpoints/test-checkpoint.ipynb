{
 "cells": [
  {
   "cell_type": "markdown",
   "id": "60b273a5-c3e8-4a38-8284-9f03e562b62c",
   "metadata": {},
   "source": [
    "# Hardware Requirements"
   ]
  },
  {
   "cell_type": "markdown",
   "id": "b03298f9-0771-4cec-8d55-d30d55e3eb30",
   "metadata": {},
   "source": [
    "Please use a PC or laptop with a discrete graphics card to run the script. (I am using a laptop with RTX2070.)"
   ]
  }
 ],
 "metadata": {
  "kernelspec": {
   "display_name": "test_gpu",
   "language": "python",
   "name": "test_gpu"
  },
  "language_info": {
   "codemirror_mode": {
    "name": "ipython",
    "version": 3
   },
   "file_extension": ".py",
   "mimetype": "text/x-python",
   "name": "python",
   "nbconvert_exporter": "python",
   "pygments_lexer": "ipython3",
   "version": "3.10.14"
  }
 },
 "nbformat": 4,
 "nbformat_minor": 5
}
