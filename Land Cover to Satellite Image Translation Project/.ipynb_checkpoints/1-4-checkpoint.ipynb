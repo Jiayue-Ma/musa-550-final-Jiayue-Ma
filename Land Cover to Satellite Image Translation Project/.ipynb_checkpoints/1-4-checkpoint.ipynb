{
 "cells": [
  {
   "cell_type": "markdown",
   "id": "60b273a5-c3e8-4a38-8284-9f03e562b62c",
   "metadata": {},
   "source": [
    "# Installing other necessary packages"
   ]
  },
  {
   "cell_type": "markdown",
   "id": "5510f1dc-7df8-4a78-9a6a-811306398ad9",
   "metadata": {},
   "source": [
    "## Step 1"
   ]
  },
  {
   "cell_type": "markdown",
   "id": "e32a91cc-74ab-4cf4-9784-1f9c53e19e18",
   "metadata": {},
   "source": [
    "<strong style=\"color: #CD6AA3;\">Open Anaconda Navigator,</strong> click “Environments” on the left menu bar."
   ]
  },
  {
   "cell_type": "markdown",
   "id": "f7b1e65b-6859-414c-8631-9917519a6d96",
   "metadata": {},
   "source": [
    "## Step 2"
   ]
  },
  {
   "cell_type": "markdown",
   "id": "d2836992-5bef-4a76-97c8-b5420f663ec9",
   "metadata": {},
   "source": [
    "<strong style=\"color: #CD6AA3;\">Select the new Conda virtual environment</strong> installed with Tensorflow 2.10.0 with compatible CUDA toolkit and cudnn package, click “Search Packages” on the upper right corner.\n",
    "\n",
    "<img src=\"images/1-4.png\" alt=\"Anaconda Navigator Home Page\" style=\"display:block; margin-top:0.5em; margin-bottom:0.5em; width:53em;\">"
   ]
  },
  {
   "cell_type": "markdown",
   "id": "420219e5-4604-4cbd-b3db-e6d3070ab1de",
   "metadata": {},
   "source": [
    "## Step 3"
   ]
  },
  {
   "cell_type": "markdown",
   "id": "dcb22169-af7e-4720-bf87-c0c0588b593c",
   "metadata": {},
   "source": [
    "<strong style=\"color: #CD6AA3;\">Search for</strong> “numpy””pandas””geopandas””matplotlib””shapely””pillow” in the search bar, click on corresponding packages. After selecting all required packages, click “Apply” in the lower right corner, then click “Apply” in the pop-up window.\n",
    "\n",
    "<img src=\"images/1-4-2.png\" alt=\"Anaconda Navigator Home Page\" style=\"display:block; margin-top:0.5em; margin-bottom:0.5em;width:53em;\">\n",
    "\n",
    "<div style=\"border-left: 4px solid #f00; padding: 0.5em; background-color: #fdd; margin-top:0.5em; margin-bottom: 0.5em;\">\n",
    "<strong>Troubleshooting:</strong> <br> If numpy version >= 2.0.0 has been already installed, please uninstall the package first and install a lower version of numpy instead. Click for “Mark for removal” in Anaconda Navigator then click “Apply” or input\n",
    "<pre style=\"background-color: #f4f4f4; padding: 0.5em; border-radius: 5px;\">pip uninstall numpy</pre>\n",
    "in Anaconda Prompt window.\n",
    "<img src=\"images/1-4-3.png\" alt=\"Anaconda Navigator Home Page\" style=\"display:block; margin-top:0.5em; margin-bottom:0.5em; width:53em;\">\n",
    "</div>"
   ]
  },
  {
   "cell_type": "markdown",
   "id": "bb28f4a8-a375-4e7f-b5a5-f2837ed5aed9",
   "metadata": {},
   "source": [
    "## Step 4"
   ]
  },
  {
   "cell_type": "markdown",
   "id": "f81dd37e-d930-4d01-a44c-0006f49c43e0",
   "metadata": {},
   "source": [
    "<strong style=\"color: #CD6AA3;\">Input</strong> <pre style=\"background-color: #f4f4f4; padding: 0.5em; border-radius: 5px;\">pip install jupyter notebook</pre> in Anaconda Prompt window and launch notebook by inputting jupyter notebook. You can also do this in the “Home” page in Anaconda Navigator (“Install” then “Launch”).\n",
    "\n",
    "<img src=\"images/1-4-3.png\" alt=\"Anaconda Navigator Home Page\" style=\"display:block; margin-top:0.5em; margin-bottom:0.5em; width:53em;\">"
   ]
  },
  {
   "cell_type": "markdown",
   "id": "c94bde8f-2d3d-43fc-8b08-f30de71521b2",
   "metadata": {},
   "source": [
    "## Step 5"
   ]
  },
  {
   "cell_type": "markdown",
   "id": "87e1895c-48f0-4b69-a9b3-aac1eb5e8902",
   "metadata": {},
   "source": [
    "<strong style=\"color: #CD6AA3;\">Input pip install commands</strong> to install the following packages: earthengine-api==1.1.2, geemap==0.34.5 and any other packages you might need when running the script. You could either do this inside Jupyter Notebook or in Anaconda Prompt Window.\n",
    "\n",
    "<div style=\"border-left: 4px solid #f00; padding: 0.5em; background-color: #fdd; margin-top:0.5em; margin-bottom: 0.5em;\">\n",
    "<strong>Troubleshooting:</strong> <br> If protobuf version >= 3.20.3 has been installed, please uninstall the package first and install version 3.20.3 instead;\n",
    "If h5py version >= 3.7.0 has been installed, please uninstall the package first and install version 3.7.0 instead.\n",
    "</div>"
   ]
  },
  {
   "cell_type": "markdown",
   "id": "9c9d1349-7f00-4aca-8435-065120496412",
   "metadata": {},
   "source": [
    "## Step 6"
   ]
  },
  {
   "cell_type": "markdown",
   "id": "b899d1a4-b592-47df-9e27-7213eceaf717",
   "metadata": {},
   "source": [
    "<strong style=\"color: #CD6AA3;\">Run</strong> <pre style=\"background-color: #f4f4f4; padding: 0.5em; border-radius: 5px;\">conda activate your_environment_name</pre> to use the virtual environment and <pre style=\"background-color: #f4f4f4; padding: 0.5em; border-radius: 5px;\">jupyter notebook</pre> to edit in notebook."
   ]
  }
 ],
 "metadata": {
  "kernelspec": {
   "display_name": "test_gpu",
   "language": "python",
   "name": "test_gpu"
  },
  "language_info": {
   "codemirror_mode": {
    "name": "ipython",
    "version": 3
   },
   "file_extension": ".py",
   "mimetype": "text/x-python",
   "name": "python",
   "nbconvert_exporter": "python",
   "pygments_lexer": "ipython3",
   "version": "3.10.14"
  }
 },
 "nbformat": 4,
 "nbformat_minor": 5
}
