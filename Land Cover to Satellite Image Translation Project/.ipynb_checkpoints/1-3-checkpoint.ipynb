{
 "cells": [
  {
   "cell_type": "markdown",
   "id": "60b273a5-c3e8-4a38-8284-9f03e562b62c",
   "metadata": {},
   "source": [
    "# Setting up a new virtual environment and installing Tensorflow"
   ]
  },
  {
   "cell_type": "markdown",
   "id": "1a356bc8-c11c-4f8d-9585-3176b54d8675",
   "metadata": {},
   "source": [
    "## Step 1"
   ]
  },
  {
   "cell_type": "markdown",
   "id": "291f1afc-4ce7-4b4c-ba44-9aa7ea27f0ac",
   "metadata": {},
   "source": [
    "<strong style=\"color: #CD6AA3;\">Go to [CUDA Toolkit Download Page](https://developer.nvidia.com/cuda-downloads).</strong> Follow the instructions and update to the newest version of local CUDA Toolkit.\n",
    "\n",
    "<img src=\"images/1-3.png\" alt=\"CUDA Toolkit Download Page\" style=\"display:block; margin-top:0.5em; width:53em;\">"
   ]
  },
  {
   "cell_type": "markdown",
   "id": "716c806b-19e0-4052-a1f5-d1ed67180444",
   "metadata": {},
   "source": [
    "## Step 2"
   ]
  },
  {
   "cell_type": "markdown",
   "id": "8bf15ab8-4af3-4948-a525-809a1fb4cd6f",
   "metadata": {},
   "source": [
    "<strong style=\"color: #CD6AA3;\">Please follow steps in [Rahul Meduri's article on Medium](https://medium.com/@Rahul_Meduri/install-cuda-cudnn-in-conda-virtual-environment-and-setup-gpu-support-using-tensorflow-f8a4c942b6ea) .</strong> This is working now in 2024/07 and is the only working configuration to make Tensorflow train on GPU as far as I know.\n",
    "\n",
    "<div style=\"border-left: 4px solid #f00; padding: 0.5em; background-color: #fdd; margin-bottom: 0.5em;\">\n",
    "<strong>Important:</strong> <br> Please refer to this [GitHub Issue Page: TF no longer \"supports\" using GPU on versions >2.10](https://github.com/tensorflow/tensorflow/issues/69750)\n",
    "</div>\n",
    "<br>\n",
    "\n",
    "<div style=\"border-left: 4px solid #f00; padding: 0.5em; background-color: #fdd;\">\n",
    "<strong>Troubleshooting:</strong> <br> If querying GPU status in Anaconda Prompt window <br> \n",
    "<pre style=\"background-color: #f4f4f4; padding: 0.5em; border-radius: 5px;\">\n",
    "python -c \"import tensorflow as tf; print('TensorFlow version:', tf.__version__); print('Num GPUs Available: ', len(tf.config.list_physical_devices('GPU')))\"\n",
    "</pre>\n",
    "shows that GPU exists,\n",
    "but following the testing step 2 in the tutorial above shows GPU isn’t available, please refer to the troubleshooting method in this [Stackoverflow Question Panel](https://stackoverflow.com/questions/62794219/tensorflow-gpu-not-showing-in-jupyter-notebook).\n",
    "</div>"
   ]
  }
 ],
 "metadata": {
  "kernelspec": {
   "display_name": "test_gpu",
   "language": "python",
   "name": "test_gpu"
  },
  "language_info": {
   "codemirror_mode": {
    "name": "ipython",
    "version": 3
   },
   "file_extension": ".py",
   "mimetype": "text/x-python",
   "name": "python",
   "nbconvert_exporter": "python",
   "pygments_lexer": "ipython3",
   "version": "3.10.14"
  }
 },
 "nbformat": 4,
 "nbformat_minor": 5
}
